{
 "cells": [
  {
   "cell_type": "markdown",
   "id": "0ef3c36c",
   "metadata": {},
   "source": [
    "### Long term stability plot\n",
    "- Total time: 1 hour (3x than regular)\n",
    "- Shock time: 30 minutes (5x than regular)"
   ]
  },
  {
   "cell_type": "code",
   "execution_count": null,
   "id": "ca94973e",
   "metadata": {},
   "outputs": [],
   "source": [
    "# set parameters here\n",
    "NUM_ROLLOUTS = 5\n",
    "LENGTH = 260\n",
    "SHOCK_START_TIME = 10000 \n",
    "SHOCK_END_TIME = 28000 #1800 seconds of shock \n",
    "WARMUP = 4000\n",
    "HORIZON = 32000 # 1 hour total this excludes warmup (32000 + 4000 = 36000)"
   ]
  },
  {
   "cell_type": "markdown",
   "id": "793d302e",
   "metadata": {},
   "source": [
    "### Wu"
   ]
  },
  {
   "cell_type": "code",
   "execution_count": null,
   "id": "a4e7931a",
   "metadata": {},
   "outputs": [],
   "source": [
    "# For CAV (first get the data)\n",
    "!python test_rllib.py ./Wu_et_al/Trained_policies/5_percent/PPO_WaveAttenuationPOEnv-v0_25b5cb6e_2022-01-26_10-58-12e9f4i3ao 50 \\\n",
    "--method wu --length $LENGTH --warmup $WARMUP --horizon $HORIZON --shock_start_time $SHOCK_START_TIME --shock_end_time $SHOCK_END_TIME\\\n",
    "--num_rollouts $NUM_ROLLOUTS --gen_emission --shock --render --num_controlled 1\n"
   ]
  },
  {
   "cell_type": "code",
   "execution_count": null,
   "id": "c3ea7bda",
   "metadata": {},
   "outputs": [],
   "source": [
    "# For CAV\n",
    "!python eval_metrics.py --method wu --save_plots --horizon $HORIZON --warmup $WARMUP \\\n",
    "--start_time $SHOCK_START_TIME --end_time $SHOCK_END_TIME --num_rollouts $NUM_ROLLOUTS\n"
   ]
  },
  {
   "cell_type": "markdown",
   "id": "330ce6f8",
   "metadata": {},
   "source": [
    "### Ours Safety"
   ]
  },
  {
   "cell_type": "code",
   "execution_count": null,
   "id": "9e39ceef",
   "metadata": {},
   "outputs": [],
   "source": [
    "# This is 5%, no need to make sure of a lot of stuff? \n",
    "# For CAV (Safety + Stability)\n",
    "!python test_rllib.py ./Ours/Trained_policies/5_percent/PPO_DensityAwareRLEnv-v0_5dfded14_2024-02-07_09-58-351869u4p3 168\\\n",
    "--method ours --length $LENGTH --warmup $WARMUP --horizon $HORIZON --shock_start_time $SHOCK_START_TIME --shock_end_time $SHOCK_END_TIME\\\n",
    "--num_rollouts $NUM_ROLLOUTS --gen_emission --shock --render --num_controlled 1\n"
   ]
  },
  {
   "cell_type": "code",
   "execution_count": null,
   "id": "c79e21b1",
   "metadata": {},
   "outputs": [],
   "source": [
    "# Only look at safety and stability\n",
    "!python eval_metrics.py --method ours --save_plots"
   ]
  },
  {
   "cell_type": "markdown",
   "id": "cf4fc669",
   "metadata": {},
   "source": [
    "### Ours Efficiency"
   ]
  },
  {
   "cell_type": "code",
   "execution_count": null,
   "id": "4c58debe",
   "metadata": {},
   "outputs": [],
   "source": [
    "# For CAV (Efficiency)\n",
    "\n",
    "!python test_rllib.py ./Ours/Trained_policies/5_percent/PPO_DensityAwareRLEnv-v0_6106dcf6_2024-02-08_12-42-07_7vnf1n4 200\\\n",
    "--method ours --length $LENGTH --warmup $WARMUP --horizon $HORIZON --shock_start_time $SHOCK_START_TIME --shock_end_time $SHOCK_END_TIME\\\n",
    "--num_rollouts $NUM_ROLLOUTS --gen_emission --shock --render --num_controlled 1\n"
   ]
  },
  {
   "cell_type": "code",
   "execution_count": null,
   "id": "b344165f",
   "metadata": {},
   "outputs": [],
   "source": [
    "# Only look at Efficiency (Wipe out the previous data)\n",
    "!python eval_metrics.py --method ours --save_plots"
   ]
  }
 ],
 "metadata": {
  "kernelspec": {
   "display_name": "Python 3 (ipykernel)",
   "language": "python",
   "name": "python3"
  },
  "language_info": {
   "codemirror_mode": {
    "name": "ipython",
    "version": 3
   },
   "file_extension": ".py",
   "mimetype": "text/x-python",
   "name": "python",
   "nbconvert_exporter": "python",
   "pygments_lexer": "ipython3",
   "version": "3.7.3"
  }
 },
 "nbformat": 4,
 "nbformat_minor": 5
}
